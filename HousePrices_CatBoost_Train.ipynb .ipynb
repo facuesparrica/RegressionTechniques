{
 "cells": [
  {
   "cell_type": "code",
   "execution_count": null,
   "metadata": {},
   "outputs": [],
   "source": [
    "import numpy as np\n",
    "from catboost import Pool, CatBoostRegressor"
   ]
  },
  {
   "cell_type": "code",
   "execution_count": null,
   "metadata": {},
   "outputs": [],
   "source": [
    "import pandas as pd\n",
    "import numpy as np\n",
    "pd.set_option('display.max_columns', 500)\n",
    "import json\n",
    "import matplotlib.pyplot as plt\n",
    "import seaborn as sns"
   ]
  },
  {
   "cell_type": "code",
   "execution_count": null,
   "metadata": {},
   "outputs": [],
   "source": []
  },
  {
   "cell_type": "code",
   "execution_count": null,
   "metadata": {},
   "outputs": [],
   "source": [
    "\n",
    "# initialize data\n",
    "train_data = np.random.randint(0, \n",
    "                               100, \n",
    "                               size=(100, 10))\n",
    "train_label = np.random.randint(0, \n",
    "                                1000, \n",
    "                                size=(100))\n",
    "test_data = np.random.randint(0, \n",
    "                              100, \n",
    "                              size=(50, 10))\n",
    "# initialize Pool\n",
    "train_pool = Pool(train_data, \n",
    "                  train_label, \n",
    "                  cat_features=[0,2,5])\n",
    "test_pool = Pool(test_data, \n",
    "                 cat_features=[0,2,5]) \n",
    "\n",
    "# specify the training parameters \n",
    "model = CatBoostRegressor(iterations=2, \n",
    "                          depth=2, \n",
    "                          learning_rate=1, \n",
    "                          loss_function='RMSE')\n",
    "#train the model\n",
    "model.fit(train_pool)\n",
    "# make the prediction using the resulting model\n",
    "preds = model.predict(test_pool)\n",
    "print(preds)"
   ]
  }
 ],
 "metadata": {
  "kernelspec": {
   "display_name": "Python 3",
   "language": "python",
   "name": "python3"
  },
  "language_info": {
   "codemirror_mode": {
    "name": "ipython",
    "version": 3
   },
   "file_extension": ".py",
   "mimetype": "text/x-python",
   "name": "python",
   "nbconvert_exporter": "python",
   "pygments_lexer": "ipython3",
   "version": "3.7.4"
  }
 },
 "nbformat": 4,
 "nbformat_minor": 4
}
